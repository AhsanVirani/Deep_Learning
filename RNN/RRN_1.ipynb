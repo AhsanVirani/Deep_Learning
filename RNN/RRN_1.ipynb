{
 "cells": [
  {
   "cell_type": "code",
   "execution_count": 1,
   "metadata": {},
   "outputs": [],
   "source": [
    "########################################################\n",
    "######### WALK THROUGH EXAMPLE OF USING RNN_1 #########\n",
    "######################################################"
   ]
  },
  {
   "cell_type": "code",
   "execution_count": 2,
   "metadata": {},
   "outputs": [],
   "source": [
    "#######################################################\n",
    "########## PREDICT GOOGLE STOCK PRICE TREND ##########"
   ]
  },
  {
   "cell_type": "code",
   "execution_count": 4,
   "metadata": {},
   "outputs": [],
   "source": [
    "import numpy as np\n",
    "import pandas as pd\n",
    "import matplotlib.pyplot as plt"
   ]
  },
  {
   "cell_type": "code",
   "execution_count": 6,
   "metadata": {},
   "outputs": [],
   "source": [
    "# Importing the training set #\n",
    "dataset_train = pd.read_csv(\"/Users/ahsan/Dropbox/My Mac (Alnoors-MBP-2.hub)/Documents/github/Deep_Learning/RNN_DATA/Google_Stock_Price_Train.csv\")"
   ]
  },
  {
   "cell_type": "code",
   "execution_count": 25,
   "metadata": {},
   "outputs": [],
   "source": [
    "# We want the open stock price\n",
    "#  Convert data into numpy array as Keras requirement\n",
    "training_set = np.array(dataset_train.iloc[:, 1:2].values)"
   ]
  },
  {
   "cell_type": "code",
   "execution_count": 33,
   "metadata": {},
   "outputs": [],
   "source": [
    "from sklearn.preprocessing import MinMaxScaler"
   ]
  },
  {
   "cell_type": "code",
   "execution_count": 51,
   "metadata": {},
   "outputs": [],
   "source": [
    "########################################################################\n",
    "###################### DATA PREPROCESSING #############################\n",
    "######################################################################"
   ]
  },
  {
   "cell_type": "code",
   "execution_count": 34,
   "metadata": {},
   "outputs": [],
   "source": [
    "# Feature Scaling as Required by Keras\n",
    "# An instance of MinMax Normalizer\n",
    "sc = MinMaxScaler()\n",
    "training_set_scaled = sc.fit_transform(training_set)"
   ]
  },
  {
   "cell_type": "code",
   "execution_count": 37,
   "metadata": {},
   "outputs": [],
   "source": [
    "# Creating a data structure with 60 timesteps and 1 output\n",
    "X_train = []\n",
    "y_train = []\n",
    "for i in range(60, 1258):\n",
    "    X_train.append(training_set_scaled[i-60:i, 0])\n",
    "    y_train.append(training_set_scaled[i, 0])\n",
    "X_train, y_train = np.array(X_train), np.array(y_train)"
   ]
  },
  {
   "cell_type": "code",
   "execution_count": 49,
   "metadata": {},
   "outputs": [],
   "source": [
    "# Reshaping the Data. Keras RNN expects a 3D np array\n",
    "X_train = X_train.reshape((X_train.shape[0], X_train.shape[1], 1))"
   ]
  },
  {
   "cell_type": "code",
   "execution_count": 52,
   "metadata": {},
   "outputs": [],
   "source": [
    "#################################################################################\n",
    "################################ BUILDING THE RNN ###############################\n",
    "#################################################################################"
   ]
  },
  {
   "cell_type": "code",
   "execution_count": 53,
   "metadata": {},
   "outputs": [],
   "source": [
    "from keras.models import Sequential\n",
    "from keras.layers import Dense\n",
    "from keras.layers import LSTM\n",
    "from keras.layers import Dropout"
   ]
  },
  {
   "cell_type": "code",
   "execution_count": 55,
   "metadata": {},
   "outputs": [],
   "source": [
    "# Initialising\n",
    "regressor = Sequential()"
   ]
  },
  {
   "cell_type": "code",
   "execution_count": 56,
   "metadata": {},
   "outputs": [],
   "source": [
    "# Adding the first LSTM layer and some Dropout regularisation\n",
    "regressor.add(LSTM(units=50, return_sequences=True, input_shape=(X_train.shape[1], 1)))\n",
    "regressor.add(Dropout(0.2))"
   ]
  },
  {
   "cell_type": "code",
   "execution_count": 57,
   "metadata": {},
   "outputs": [],
   "source": [
    "# Adding the Second LSTM layer and some Dropout regularisation\n",
    "regressor.add(LSTM(units=50, return_sequences=True))\n",
    "regressor.add(Dropout(0.2))\n",
    "\n",
    "# Adding the Third LSTM layer and some Dropout regularisation\n",
    "regressor.add(LSTM(units=50, return_sequences=True))\n",
    "regressor.add(Dropout(0.2))\n",
    "\n",
    "# Adding the Fourth LSTM layer\n",
    "regressor.add(LSTM(units=50))\n",
    "regressor.add(Dropout(0.2))"
   ]
  },
  {
   "cell_type": "code",
   "execution_count": 58,
   "metadata": {},
   "outputs": [],
   "source": [
    "# Making the last layer - The output layer\n",
    "regressor.add(Dense(units=1))"
   ]
  },
  {
   "cell_type": "code",
   "execution_count": 59,
   "metadata": {},
   "outputs": [],
   "source": [
    "# Compiling the RNN\n",
    "regressor.compile(optimizer='adam', loss='mse')"
   ]
  },
  {
   "cell_type": "code",
   "execution_count": 60,
   "metadata": {},
   "outputs": [],
   "source": [
    "########################################################################\n",
    "###################### TRAINING AND FITTING #############################\n",
    "######################################################################"
   ]
  },
  {
   "cell_type": "code",
   "execution_count": 61,
   "metadata": {},
   "outputs": [
    {
     "name": "stdout",
     "output_type": "stream",
     "text": [
      "Epoch 1/100\n",
      "38/38 [==============================] - 6s 154ms/step - loss: 0.0322\n",
      "Epoch 2/100\n",
      "38/38 [==============================] - 6s 153ms/step - loss: 0.0075\n",
      "Epoch 3/100\n",
      "38/38 [==============================] - 6s 147ms/step - loss: 0.0059\n",
      "Epoch 4/100\n",
      "38/38 [==============================] - 6s 158ms/step - loss: 0.0057\n",
      "Epoch 5/100\n",
      "38/38 [==============================] - 6s 157ms/step - loss: 0.0047\n",
      "Epoch 6/100\n",
      "38/38 [==============================] - 6s 152ms/step - loss: 0.0047\n",
      "Epoch 7/100\n",
      "38/38 [==============================] - 6s 145ms/step - loss: 0.0044\n",
      "Epoch 8/100\n",
      "38/38 [==============================] - 6s 147ms/step - loss: 0.0048\n",
      "Epoch 9/100\n",
      "38/38 [==============================] - 6s 165ms/step - loss: 0.0046\n",
      "Epoch 10/100\n",
      "38/38 [==============================] - 6s 147ms/step - loss: 0.0041\n",
      "Epoch 11/100\n",
      "38/38 [==============================] - 6s 153ms/step - loss: 0.0043\n",
      "Epoch 12/100\n",
      "38/38 [==============================] - 6s 152ms/step - loss: 0.0042\n",
      "Epoch 13/100\n",
      "38/38 [==============================] - 6s 159ms/step - loss: 0.0039\n",
      "Epoch 14/100\n",
      "38/38 [==============================] - 6s 149ms/step - loss: 0.0036\n",
      "Epoch 15/100\n",
      "38/38 [==============================] - 5s 139ms/step - loss: 0.0039\n",
      "Epoch 16/100\n",
      "38/38 [==============================] - 5s 142ms/step - loss: 0.0037\n",
      "Epoch 17/100\n",
      "38/38 [==============================] - 5s 138ms/step - loss: 0.0040\n",
      "Epoch 18/100\n",
      "38/38 [==============================] - 5s 140ms/step - loss: 0.0036\n",
      "Epoch 19/100\n",
      "38/38 [==============================] - 5s 141ms/step - loss: 0.0035\n",
      "Epoch 20/100\n",
      "38/38 [==============================] - 5s 138ms/step - loss: 0.0037\n",
      "Epoch 21/100\n",
      "38/38 [==============================] - 5s 139ms/step - loss: 0.0043\n",
      "Epoch 22/100\n",
      "38/38 [==============================] - 6s 152ms/step - loss: 0.0034\n",
      "Epoch 23/100\n",
      "38/38 [==============================] - 5s 141ms/step - loss: 0.0034\n",
      "Epoch 24/100\n",
      "38/38 [==============================] - 5s 141ms/step - loss: 0.0035\n",
      "Epoch 25/100\n",
      "38/38 [==============================] - 5s 138ms/step - loss: 0.0037\n",
      "Epoch 26/100\n",
      "38/38 [==============================] - 6s 155ms/step - loss: 0.0035\n",
      "Epoch 27/100\n",
      "38/38 [==============================] - 5s 140ms/step - loss: 0.0033\n",
      "Epoch 28/100\n",
      "38/38 [==============================] - 6s 145ms/step - loss: 0.0031\n",
      "Epoch 29/100\n",
      "38/38 [==============================] - 5s 139ms/step - loss: 0.0029\n",
      "Epoch 30/100\n",
      "38/38 [==============================] - 5s 141ms/step - loss: 0.0033\n",
      "Epoch 31/100\n",
      "38/38 [==============================] - 5s 140ms/step - loss: 0.0032\n",
      "Epoch 32/100\n",
      "38/38 [==============================] - 6s 149ms/step - loss: 0.0032\n",
      "Epoch 33/100\n",
      "38/38 [==============================] - 5s 141ms/step - loss: 0.0029\n",
      "Epoch 34/100\n",
      "38/38 [==============================] - 6s 149ms/step - loss: 0.0030\n",
      "Epoch 35/100\n",
      "38/38 [==============================] - 6s 156ms/step - loss: 0.0030\n",
      "Epoch 36/100\n",
      "38/38 [==============================] - 5s 136ms/step - loss: 0.0029\n",
      "Epoch 37/100\n",
      "38/38 [==============================] - 6s 146ms/step - loss: 0.0027\n",
      "Epoch 38/100\n",
      "38/38 [==============================] - 6s 147ms/step - loss: 0.0026\n",
      "Epoch 39/100\n",
      "38/38 [==============================] - 5s 139ms/step - loss: 0.0031\n",
      "Epoch 40/100\n",
      "38/38 [==============================] - 5s 137ms/step - loss: 0.0025\n",
      "Epoch 41/100\n",
      "38/38 [==============================] - 6s 153ms/step - loss: 0.0026\n",
      "Epoch 42/100\n",
      "38/38 [==============================] - 6s 153ms/step - loss: 0.0029\n",
      "Epoch 43/100\n",
      "38/38 [==============================] - 5s 137ms/step - loss: 0.0027\n",
      "Epoch 44/100\n",
      "38/38 [==============================] - 5s 138ms/step - loss: 0.0026\n",
      "Epoch 45/100\n",
      "38/38 [==============================] - 5s 135ms/step - loss: 0.0023\n",
      "Epoch 46/100\n",
      "38/38 [==============================] - 5s 134ms/step - loss: 0.0026\n",
      "Epoch 47/100\n",
      "38/38 [==============================] - 5s 143ms/step - loss: 0.0025\n",
      "Epoch 48/100\n",
      "38/38 [==============================] - 6s 152ms/step - loss: 0.0024\n",
      "Epoch 49/100\n",
      "38/38 [==============================] - 6s 148ms/step - loss: 0.0024\n",
      "Epoch 50/100\n",
      "38/38 [==============================] - 5s 137ms/step - loss: 0.0027\n",
      "Epoch 51/100\n",
      "38/38 [==============================] - 5s 139ms/step - loss: 0.0024\n",
      "Epoch 52/100\n",
      "38/38 [==============================] - 5s 139ms/step - loss: 0.0021\n",
      "Epoch 53/100\n",
      "38/38 [==============================] - 6s 149ms/step - loss: 0.0023\n",
      "Epoch 54/100\n",
      "38/38 [==============================] - 6s 149ms/step - loss: 0.0022\n",
      "Epoch 55/100\n",
      "38/38 [==============================] - 6s 152ms/step - loss: 0.0022\n",
      "Epoch 56/100\n",
      "38/38 [==============================] - 6s 155ms/step - loss: 0.0024\n",
      "Epoch 57/100\n",
      "38/38 [==============================] - 5s 144ms/step - loss: 0.0021\n",
      "Epoch 58/100\n",
      "38/38 [==============================] - 6s 158ms/step - loss: 0.0020\n",
      "Epoch 59/100\n",
      "38/38 [==============================] - 6s 152ms/step - loss: 0.0022\n",
      "Epoch 60/100\n",
      "38/38 [==============================] - 5s 144ms/step - loss: 0.0021\n",
      "Epoch 61/100\n",
      "38/38 [==============================] - 5s 142ms/step - loss: 0.0021\n",
      "Epoch 62/100\n",
      "38/38 [==============================] - 6s 145ms/step - loss: 0.0018\n",
      "Epoch 63/100\n",
      "38/38 [==============================] - 6s 163ms/step - loss: 0.0018\n",
      "Epoch 64/100\n",
      "38/38 [==============================] - 6s 154ms/step - loss: 0.0020\n",
      "Epoch 65/100\n",
      "38/38 [==============================] - 6s 159ms/step - loss: 0.0020\n",
      "Epoch 66/100\n",
      "38/38 [==============================] - 6s 164ms/step - loss: 0.0020\n",
      "Epoch 67/100\n",
      "38/38 [==============================] - 5s 138ms/step - loss: 0.0019\n",
      "Epoch 68/100\n",
      "38/38 [==============================] - 6s 161ms/step - loss: 0.0022\n",
      "Epoch 69/100\n",
      "38/38 [==============================] - 6s 146ms/step - loss: 0.0019\n",
      "Epoch 70/100\n",
      "38/38 [==============================] - 5s 145ms/step - loss: 0.0018\n",
      "Epoch 71/100\n",
      "38/38 [==============================] - 6s 160ms/step - loss: 0.0020\n",
      "Epoch 72/100\n",
      "38/38 [==============================] - 5s 140ms/step - loss: 0.0018\n",
      "Epoch 73/100\n",
      "38/38 [==============================] - 5s 136ms/step - loss: 0.0017\n",
      "Epoch 74/100\n",
      "38/38 [==============================] - 6s 147ms/step - loss: 0.0017\n",
      "Epoch 75/100\n",
      "38/38 [==============================] - 6s 151ms/step - loss: 0.0016\n",
      "Epoch 76/100\n",
      "38/38 [==============================] - 5s 141ms/step - loss: 0.0019\n",
      "Epoch 77/100\n",
      "38/38 [==============================] - 5s 144ms/step - loss: 0.0017\n",
      "Epoch 78/100\n",
      "38/38 [==============================] - 5s 135ms/step - loss: 0.0020\n",
      "Epoch 79/100\n",
      "38/38 [==============================] - 5s 138ms/step - loss: 0.0016\n",
      "Epoch 80/100\n",
      "38/38 [==============================] - 5s 144ms/step - loss: 0.0017\n",
      "Epoch 81/100\n",
      "38/38 [==============================] - 5s 142ms/step - loss: 0.0019\n",
      "Epoch 82/100\n",
      "38/38 [==============================] - 5s 135ms/step - loss: 0.0015\n",
      "Epoch 83/100\n",
      "38/38 [==============================] - 5s 144ms/step - loss: 0.0016\n",
      "Epoch 84/100\n",
      "38/38 [==============================] - 5s 135ms/step - loss: 0.0017\n",
      "Epoch 85/100\n",
      "38/38 [==============================] - 5s 136ms/step - loss: 0.0017\n",
      "Epoch 86/100\n",
      "38/38 [==============================] - 5s 143ms/step - loss: 0.0016\n",
      "Epoch 87/100\n",
      "38/38 [==============================] - 5s 136ms/step - loss: 0.0016\n",
      "Epoch 88/100\n",
      "38/38 [==============================] - 5s 142ms/step - loss: 0.0016\n",
      "Epoch 89/100\n",
      "38/38 [==============================] - 6s 146ms/step - loss: 0.0014\n",
      "Epoch 90/100\n",
      "38/38 [==============================] - 6s 148ms/step - loss: 0.0016\n",
      "Epoch 91/100\n",
      "38/38 [==============================] - 5s 143ms/step - loss: 0.0015\n",
      "Epoch 92/100\n",
      "38/38 [==============================] - 5s 138ms/step - loss: 0.0016\n",
      "Epoch 93/100\n",
      "38/38 [==============================] - 5s 143ms/step - loss: 0.0017\n",
      "Epoch 94/100\n",
      "38/38 [==============================] - 5s 139ms/step - loss: 0.0016\n",
      "Epoch 95/100\n",
      "38/38 [==============================] - 5s 140ms/step - loss: 0.0015\n",
      "Epoch 96/100\n",
      "38/38 [==============================] - 5s 143ms/step - loss: 0.0015\n",
      "Epoch 97/100\n",
      "38/38 [==============================] - 5s 132ms/step - loss: 0.0017\n",
      "Epoch 98/100\n",
      "38/38 [==============================] - 5s 140ms/step - loss: 0.0017\n",
      "Epoch 99/100\n"
     ]
    },
    {
     "name": "stdout",
     "output_type": "stream",
     "text": [
      "38/38 [==============================] - 5s 138ms/step - loss: 0.0015\n",
      "Epoch 100/100\n",
      "38/38 [==============================] - 5s 138ms/step - loss: 0.0014\n"
     ]
    },
    {
     "data": {
      "text/plain": [
       "<tensorflow.python.keras.callbacks.History at 0x7fb080816880>"
      ]
     },
     "execution_count": 61,
     "metadata": {},
     "output_type": "execute_result"
    }
   ],
   "source": [
    "regressor.fit(X_train, y_train, epochs=100, batch_size=32)"
   ]
  },
  {
   "cell_type": "code",
   "execution_count": 62,
   "metadata": {},
   "outputs": [],
   "source": [
    "# Making the prediction and visualising the results\n",
    "# Importing the Test set #\n",
    "dataset_test = pd.read_csv(\"/Users/ahsan/Dropbox/My Mac (Alnoors-MBP-2.hub)/Documents/github/Deep_Learning/RNN_DATA/Google_Stock_Price_Test.csv\")"
   ]
  },
  {
   "cell_type": "code",
   "execution_count": 63,
   "metadata": {},
   "outputs": [],
   "source": [
    "# We want the open stock price\n",
    "#  Convert data into numpy array as Keras requirement\n",
    "real_stock_price = np.array(dataset_test.iloc[:, 1:2].values)"
   ]
  },
  {
   "cell_type": "code",
   "execution_count": 88,
   "metadata": {},
   "outputs": [],
   "source": [
    "# Making the data as per keras requirements\n",
    "dataset_total = pd.concat([dataset_train[\"Open\"], dataset_test[\"Open\"]], axis=0)\n",
    "inputs = dataset_total[len(dataset_total)-len(dataset_test)-60:].values\n",
    "inputs = inputs.reshape(-1,1)\n",
    "inputs = sc.transform(inputs)"
   ]
  },
  {
   "cell_type": "code",
   "execution_count": 97,
   "metadata": {},
   "outputs": [],
   "source": [
    "# Creating a data structure with 60 timesteps and 1 output\n",
    "X_test = []\n",
    "for i in range(60, 80):\n",
    "    X_test.append(inputs[i-60:i, 0])\n",
    "X_test = np.array(X_test)"
   ]
  },
  {
   "cell_type": "code",
   "execution_count": 99,
   "metadata": {},
   "outputs": [],
   "source": [
    "# Reshaping the Data. Keras RNN expects a 3D np array\n",
    "X_test = X_test.reshape((X_test.shape[0], X_test.shape[1], 1))"
   ]
  },
  {
   "cell_type": "code",
   "execution_count": 101,
   "metadata": {},
   "outputs": [],
   "source": [
    "predicted_stock_price = regressor.predict(X_test)"
   ]
  },
  {
   "cell_type": "code",
   "execution_count": 104,
   "metadata": {},
   "outputs": [],
   "source": [
    "predicted_stock_price = sc.inverse_transform(predicted_stock_price)"
   ]
  },
  {
   "cell_type": "code",
   "execution_count": 105,
   "metadata": {},
   "outputs": [
    {
     "data": {
      "text/plain": [
       "array([[785.0747 ],\n",
       "       [782.3647 ],\n",
       "       [782.7238 ],\n",
       "       [783.79156],\n",
       "       [786.75793],\n",
       "       [792.2864 ],\n",
       "       [797.212  ],\n",
       "       [799.1865 ],\n",
       "       [799.8877 ],\n",
       "       [800.2372 ],\n",
       "       [800.4707 ],\n",
       "       [800.4684 ],\n",
       "       [800.40015],\n",
       "       [800.98193],\n",
       "       [801.87494],\n",
       "       [806.52686],\n",
       "       [813.0878 ],\n",
       "       [820.00134],\n",
       "       [823.6125 ],\n",
       "       [819.4819 ]], dtype=float32)"
      ]
     },
     "execution_count": 105,
     "metadata": {},
     "output_type": "execute_result"
    }
   ],
   "source": [
    "predicted_stock_price"
   ]
  },
  {
   "cell_type": "code",
   "execution_count": 110,
   "metadata": {},
   "outputs": [
    {
     "data": {
      "text/plain": [
       "<matplotlib.legend.Legend at 0x7fb07f7bb5e0>"
      ]
     },
     "execution_count": 110,
     "metadata": {},
     "output_type": "execute_result"
    },
    {
     "data": {
      "image/png": "[encoded data removed]",
      "text/plain": [
       "<Figure size 432x288 with 1 Axes>"
      ]
     },
     "metadata": {
      "needs_background": "light"
     },
     "output_type": "display_data"
    }
   ],
   "source": [
    "# Visualising the Results\n",
    "plt.plot(real_stock_price, color='red', label='Real Google Stock Price $')\n",
    "plt.plot(predicted_stock_price, color='blue', label='Predicted Google Stock Price $')\n",
    "plt.title('Google Stock Price Prediction')\n",
    "plt.xlabel('Time')\n",
    "plt.ylabel('Google Stock Price $')\n",
    "plt.legend()"
   ]
  },
  {
   "cell_type": "code",
   "execution_count": null,
   "metadata": {},
   "outputs": [],
   "source": []
  }
 ],
 "metadata": {
  "kernelspec": {
   "display_name": "Python 3",
   "language": "python",
   "name": "python3"
  },
  "language_info": {
   "codemirror_mode": {
    "name": "ipython",
    "version": 3
   },
   "file_extension": ".py",
   "mimetype": "text/x-python",
   "name": "python",
   "nbconvert_exporter": "python",
   "pygments_lexer": "ipython3",
   "version": "3.8.3"
  }
 },
 "nbformat": 4,
 "nbformat_minor": 4
}
