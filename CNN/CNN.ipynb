{
 "cells": [
  {
   "cell_type": "code",
   "execution_count": 2,
   "metadata": {},
   "outputs": [],
   "source": [
    "###############################################################\n",
    "################ CNN IMPLEMENTATION ##########################\n",
    "#############################################################"
   ]
  },
  {
   "cell_type": "code",
   "execution_count": 3,
   "metadata": {},
   "outputs": [],
   "source": [
    "############################################################\n",
    "############# DATA PREPROCESSING ##########################\n",
    "##########################################################"
   ]
  },
  {
   "cell_type": "code",
   "execution_count": 53,
   "metadata": {},
   "outputs": [],
   "source": [
    "# IMPORT LIBRARIES #\n",
    "import numpy as np\n",
    "import tensorflow as tf\n",
    "from keras.preprocessing.image import ImageDataGenerator, img_to_array\n",
    "from keras_preprocessing import image"
   ]
  },
  {
   "cell_type": "code",
   "execution_count": 12,
   "metadata": {},
   "outputs": [
    {
     "name": "stdout",
     "output_type": "stream",
     "text": [
      "Found 8000 images belonging to 2 classes.\n"
     ]
    }
   ],
   "source": [
    "# PREPROCESSING THE TRAINING SET #\n",
    "train_datagen = ImageDataGenerator(\n",
    "        rescale=1./255,\n",
    "        shear_range=0.2,\n",
    "        zoom_range=0.2,\n",
    "        horizontal_flip=True)\n",
    "training_set = train_datagen.flow_from_directory(\n",
    "        '/Users/ahsan/Dropbox/My Mac (Alnoors-MBP-2.hub)/Documents/github/Deep_Learning/Section 40 - Convolutional Neural Networks (CNN)/dataset/training_set',\n",
    "        target_size=(64, 64),\n",
    "        batch_size=32,\n",
    "        class_mode='binary')"
   ]
  },
  {
   "cell_type": "code",
   "execution_count": 13,
   "metadata": {},
   "outputs": [
    {
     "name": "stdout",
     "output_type": "stream",
     "text": [
      "Found 2000 images belonging to 2 classes.\n"
     ]
    }
   ],
   "source": [
    "# PREPROCESSING THE TEST SET #\n",
    "test_datagen = ImageDataGenerator(rescale=1./255)\n",
    "test_set = test_datagen.flow_from_directory(\n",
    "        '/Users/ahsan/Dropbox/My Mac (Alnoors-MBP-2.hub)/Documents/github/Deep_Learning/Section 40 - Convolutional Neural Networks (CNN)/dataset/test_set',\n",
    "        target_size=(64, 64),\n",
    "        batch_size=32,\n",
    "        class_mode='binary')"
   ]
  },
  {
   "cell_type": "code",
   "execution_count": 14,
   "metadata": {},
   "outputs": [],
   "source": [
    "#############################################\n",
    "######### BUILDING A CNN ###################\n",
    "###########################################"
   ]
  },
  {
   "cell_type": "code",
   "execution_count": 16,
   "metadata": {},
   "outputs": [],
   "source": [
    "# INITIALISING AN INSTANCE OF A CNN CLASS #\n",
    "cnn = tf.keras.models.Sequential()"
   ]
  },
  {
   "cell_type": "code",
   "execution_count": 19,
   "metadata": {},
   "outputs": [],
   "source": [
    "# ADDING 1st CONVOLUTIONAL LAYER #\n",
    "cnn.add(tf.keras.layers.Conv2D(filters=32, kernel_size=3, activation='relu', input_shape=[64,64,3]))"
   ]
  },
  {
   "cell_type": "code",
   "execution_count": 20,
   "metadata": {},
   "outputs": [],
   "source": [
    "# APPLYING POOLING #\n",
    "cnn.add(tf.keras.layers.MaxPool2D(pool_size=2, strides=2))"
   ]
  },
  {
   "cell_type": "code",
   "execution_count": 21,
   "metadata": {},
   "outputs": [],
   "source": [
    "# ADDING 2nd CONVOLUTION LAYER\n",
    "cnn.add(tf.keras.layers.Conv2D(filters=32, kernel_size=3, activation='relu'))\n",
    "cnn.add(tf.keras.layers.MaxPool2D(pool_size=2, strides=2))"
   ]
  },
  {
   "cell_type": "code",
   "execution_count": 31,
   "metadata": {},
   "outputs": [],
   "source": [
    "# FLATTENING - MAKES 1 DIMENSIONAL VECTOR TO FEED AS INPUTS TO ANN #\n",
    "cnn.add(tf.keras.layers.Flatten())"
   ]
  },
  {
   "cell_type": "code",
   "execution_count": 23,
   "metadata": {},
   "outputs": [],
   "source": [
    "##############################################################\n",
    "######### MAKING A FULLY CONNECTED NN NOW ###################\n",
    "############################################################"
   ]
  },
  {
   "cell_type": "code",
   "execution_count": 32,
   "metadata": {},
   "outputs": [],
   "source": [
    "# ADDING 1st LAYER ANN #\n",
    "cnn.add(tf.keras.layers.Dense(units=128, activation='relu'))\n",
    "# ADDING 2nd LAYER ANN #\n",
    "cnn.add(tf.keras.layers.Dense(units=128, activation='relu'))\n",
    "# ADDING OUTPUT LAYER #\n",
    "cnn.add(tf.keras.layers.Dense(units=1, activation='sigmoid'))"
   ]
  },
  {
   "cell_type": "code",
   "execution_count": 33,
   "metadata": {},
   "outputs": [],
   "source": [
    "# COMPILING ANN\n",
    "# adam uses stochastic gradient descent\n",
    "cnn.compile(optimizer='adam', loss='binary_crossentropy', metrics=['accuracy'])"
   ]
  },
  {
   "cell_type": "code",
   "execution_count": 34,
   "metadata": {},
   "outputs": [],
   "source": [
    "###################################################################################################################\n",
    "#################### TRAINING THE CNN ON THE TRAINING SET AND EVALUATING ON THE TEST SET #########################\n",
    "#################################################################################################################"
   ]
  },
  {
   "cell_type": "code",
   "execution_count": 35,
   "metadata": {},
   "outputs": [
    {
     "name": "stdout",
     "output_type": "stream",
     "text": [
      "Epoch 1/25\n",
      "250/250 [==============================] - 71s 283ms/step - loss: 0.6700 - accuracy: 0.5854 - val_loss: 0.6316 - val_accuracy: 0.6500\n",
      "Epoch 2/25\n",
      "250/250 [==============================] - 66s 266ms/step - loss: 0.6088 - accuracy: 0.6675 - val_loss: 0.5949 - val_accuracy: 0.6695\n",
      "Epoch 3/25\n",
      "250/250 [==============================] - 67s 269ms/step - loss: 0.5772 - accuracy: 0.6975 - val_loss: 0.6226 - val_accuracy: 0.6790\n",
      "Epoch 4/25\n",
      "250/250 [==============================] - 66s 263ms/step - loss: 0.5543 - accuracy: 0.7056 - val_loss: 0.5490 - val_accuracy: 0.7280\n",
      "Epoch 5/25\n",
      "250/250 [==============================] - 67s 267ms/step - loss: 0.5287 - accuracy: 0.7359 - val_loss: 0.5174 - val_accuracy: 0.7365\n",
      "Epoch 6/25\n",
      "250/250 [==============================] - 66s 264ms/step - loss: 0.5055 - accuracy: 0.7454 - val_loss: 0.5224 - val_accuracy: 0.7460\n",
      "Epoch 7/25\n",
      "250/250 [==============================] - 65s 262ms/step - loss: 0.4844 - accuracy: 0.7655 - val_loss: 0.4820 - val_accuracy: 0.7720\n",
      "Epoch 8/25\n",
      "250/250 [==============================] - 65s 259ms/step - loss: 0.4570 - accuracy: 0.7814 - val_loss: 0.5195 - val_accuracy: 0.7435\n",
      "Epoch 9/25\n",
      "250/250 [==============================] - 62s 247ms/step - loss: 0.4446 - accuracy: 0.7896 - val_loss: 0.4779 - val_accuracy: 0.7715\n",
      "Epoch 10/25\n",
      "250/250 [==============================] - 64s 257ms/step - loss: 0.4267 - accuracy: 0.8009 - val_loss: 0.4742 - val_accuracy: 0.7785\n",
      "Epoch 11/25\n",
      "250/250 [==============================] - 66s 263ms/step - loss: 0.4129 - accuracy: 0.8086 - val_loss: 0.4673 - val_accuracy: 0.7835\n",
      "Epoch 12/25\n",
      "250/250 [==============================] - 65s 259ms/step - loss: 0.3926 - accuracy: 0.8226 - val_loss: 0.5191 - val_accuracy: 0.7685\n",
      "Epoch 13/25\n",
      "250/250 [==============================] - 64s 255ms/step - loss: 0.3812 - accuracy: 0.8309 - val_loss: 0.5339 - val_accuracy: 0.7565\n",
      "Epoch 14/25\n",
      "250/250 [==============================] - 64s 255ms/step - loss: 0.3625 - accuracy: 0.8385 - val_loss: 0.5166 - val_accuracy: 0.7730\n",
      "Epoch 15/25\n",
      "250/250 [==============================] - 62s 249ms/step - loss: 0.3446 - accuracy: 0.8486 - val_loss: 0.5125 - val_accuracy: 0.7880\n",
      "Epoch 16/25\n",
      "250/250 [==============================] - 62s 248ms/step - loss: 0.3079 - accuracy: 0.8665 - val_loss: 0.5666 - val_accuracy: 0.7665\n",
      "Epoch 17/25\n",
      "250/250 [==============================] - 62s 247ms/step - loss: 0.2975 - accuracy: 0.8725 - val_loss: 0.5339 - val_accuracy: 0.7955\n",
      "Epoch 18/25\n",
      "250/250 [==============================] - 64s 257ms/step - loss: 0.2869 - accuracy: 0.8769 - val_loss: 0.5419 - val_accuracy: 0.7745\n",
      "Epoch 19/25\n",
      "250/250 [==============================] - 64s 257ms/step - loss: 0.2851 - accuracy: 0.8791 - val_loss: 0.5031 - val_accuracy: 0.7900\n",
      "Epoch 20/25\n",
      "250/250 [==============================] - 63s 254ms/step - loss: 0.2611 - accuracy: 0.8900 - val_loss: 0.5480 - val_accuracy: 0.7860\n",
      "Epoch 21/25\n",
      "250/250 [==============================] - 62s 249ms/step - loss: 0.2581 - accuracy: 0.8941 - val_loss: 0.6558 - val_accuracy: 0.7755\n",
      "Epoch 22/25\n",
      "250/250 [==============================] - 1772s 7s/step - loss: 0.2369 - accuracy: 0.9043 - val_loss: 0.5598 - val_accuracy: 0.7865\n",
      "Epoch 23/25\n",
      "250/250 [==============================] - 65s 261ms/step - loss: 0.2319 - accuracy: 0.9044 - val_loss: 0.6442 - val_accuracy: 0.7765\n",
      "Epoch 24/25\n",
      "250/250 [==============================] - 65s 261ms/step - loss: 0.2035 - accuracy: 0.9154 - val_loss: 0.6756 - val_accuracy: 0.7805\n",
      "Epoch 25/25\n",
      "250/250 [==============================] - 65s 259ms/step - loss: 0.1991 - accuracy: 0.9201 - val_loss: 0.7820 - val_accuracy: 0.7510\n"
     ]
    },
    {
     "data": {
      "text/plain": [
       "<tensorflow.python.keras.callbacks.History at 0x7f870f0964f0>"
      ]
     },
     "execution_count": 35,
     "metadata": {},
     "output_type": "execute_result"
    }
   ],
   "source": [
    "cnn.fit(x=training_set, validation_data=test_set, epochs=25)"
   ]
  },
  {
   "cell_type": "code",
   "execution_count": 72,
   "metadata": {},
   "outputs": [],
   "source": [
    "# 1 prediction\n",
    "test_img1 = tf.keras.preprocessing.image.load_img(\"/Users/ahsan/Dropbox/My Mac (Alnoors-MBP-2.hub)/Documents/github/Deep_Learning/data/dataset/single_prediction/cat_or_dog_1.jpg\", target_size=(64,64))\n",
    "test_img2 = tf.keras.preprocessing.image.load_img(\"/Users/ahsan/Dropbox/My Mac (Alnoors-MBP-2.hub)/Documents/github/Deep_Learning/data/dataset/single_prediction/cat_or_dog_2.jpg\", target_size=(64,64))"
   ]
  },
  {
   "cell_type": "code",
   "execution_count": 73,
   "metadata": {},
   "outputs": [],
   "source": [
    "# Converting image to 2D array as expected by predict method\n",
    "test_img1 = tf.keras.preprocessing.image.img_to_array(test_img1)\n",
    "test_img1 = np.expand_dims(test_img1, axis=0)\n",
    "test_img2 = tf.keras.preprocessing.image.img_to_array(test_img2)\n",
    "test_img2 = np.expand_dims(test_img2, axis=0)"
   ]
  },
  {
   "cell_type": "code",
   "execution_count": 79,
   "metadata": {},
   "outputs": [],
   "source": [
    "result1 = cnn.predict(test_img1)\n",
    "result2 = cnn.predict(test_img2)"
   ]
  },
  {
   "cell_type": "code",
   "execution_count": 81,
   "metadata": {},
   "outputs": [
    {
     "data": {
      "text/plain": [
       "{'cats': 0, 'dogs': 1}"
      ]
     },
     "execution_count": 81,
     "metadata": {},
     "output_type": "execute_result"
    }
   ],
   "source": [
    "training_set.class_indices"
   ]
  },
  {
   "cell_type": "code",
   "execution_count": 83,
   "metadata": {},
   "outputs": [
    {
     "ename": "IndexError",
     "evalue": "index 1 is out of bounds for axis 0 with size 1",
     "output_type": "error",
     "traceback": [
      "\u001b[0;31m---------------------------------------------------------------------------\u001b[0m",
      "\u001b[0;31mIndexError\u001b[0m                                Traceback (most recent call last)",
      "\u001b[0;32m<ipython-input-83-83c307e42e8b>\u001b[0m in \u001b[0;36m<module>\u001b[0;34m\u001b[0m\n\u001b[0;32m----> 1\u001b[0;31m \u001b[0mresult\u001b[0m\u001b[0;34m[\u001b[0m\u001b[0;36m0\u001b[0m\u001b[0;34m]\u001b[0m\u001b[0;34m[\u001b[0m\u001b[0;36m1\u001b[0m\u001b[0;34m]\u001b[0m\u001b[0;34m\u001b[0m\u001b[0;34m\u001b[0m\u001b[0m\n\u001b[0m",
      "\u001b[0;31mIndexError\u001b[0m: index 1 is out of bounds for axis 0 with size 1"
     ]
    }
   ],
   "source": [
    "result[0][1]"
   ]
  },
  {
   "cell_type": "code",
   "execution_count": null,
   "metadata": {},
   "outputs": [],
   "source": []
  }
 ],
 "metadata": {
  "kernelspec": {
   "display_name": "Python 3",
   "language": "python",
   "name": "python3"
  },
  "language_info": {
   "codemirror_mode": {
    "name": "ipython",
    "version": 3
   },
   "file_extension": ".py",
   "mimetype": "text/x-python",
   "name": "python",
   "nbconvert_exporter": "python",
   "pygments_lexer": "ipython3",
   "version": "3.8.3"
  }
 },
 "nbformat": 4,
 "nbformat_minor": 4
}
