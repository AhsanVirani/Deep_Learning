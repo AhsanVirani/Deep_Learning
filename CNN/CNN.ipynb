{
 "cells": [
  {
   "cell_type": "code",
   "execution_count": 2,
   "metadata": {},
   "outputs": [],
   "source": [
    "###############################################################\n",
    "################ CNN IMPLEMENTATION ##########################\n",
    "#############################################################"
   ]
  },
  {
   "cell_type": "code",
   "execution_count": 3,
   "metadata": {},
   "outputs": [],
   "source": [
    "############################################################\n",
    "############# DATA PREPROCESSING ##########################\n",
    "##########################################################"
   ]
  },
  {
   "cell_type": "code",
   "execution_count": 3,
   "metadata": {},
   "outputs": [],
   "source": [
    "# IMPORT LIBRARIES #\n",
    "import numpy as np\n",
    "import tensorflow as tf\n",
    "from keras.preprocessing.image import ImageDataGenerator, img_to_array\n",
    "from keras_preprocessing import image"
   ]
  },
  {
   "cell_type": "code",
   "execution_count": 5,
   "metadata": {},
   "outputs": [
    {
     "name": "stdout",
     "output_type": "stream",
     "text": [
      "Found 8000 images belonging to 2 classes.\n"
     ]
    }
   ],
   "source": [
    "# PREPROCESSING THE TRAINING SET #\n",
    "train_datagen = ImageDataGenerator(\n",
    "        rescale=1./255,\n",
    "        shear_range=0.2,\n",
    "        zoom_range=0.2,\n",
    "        horizontal_flip=True)\n",
    "training_set = train_datagen.flow_from_directory(\n",
    "        '/Users/ahsan/Dropbox/My Mac (Alnoors-MBP-2.hub)/Documents/github/Deep_Learning/data/dataset/training_set',\n",
    "        target_size=(64, 64),\n",
    "        batch_size=32,\n",
    "        class_mode='binary')"
   ]
  },
  {
   "cell_type": "code",
   "execution_count": 8,
   "metadata": {},
   "outputs": [
    {
     "name": "stdout",
     "output_type": "stream",
     "text": [
      "Found 2000 images belonging to 2 classes.\n"
     ]
    }
   ],
   "source": [
    "# PREPROCESSING THE TEST SET #\n",
    "test_datagen = ImageDataGenerator(rescale=1./255)\n",
    "test_set = test_datagen.flow_from_directory(\n",
    "        '/Users/ahsan/Dropbox/My Mac (Alnoors-MBP-2.hub)/Documents/github/Deep_Learning/data/dataset/test_set',\n",
    "        target_size=(64, 64),\n",
    "        batch_size=32,\n",
    "        class_mode='binary')"
   ]
  },
  {
   "cell_type": "code",
   "execution_count": 9,
   "metadata": {},
   "outputs": [],
   "source": [
    "#############################################\n",
    "######### BUILDING A CNN ###################\n",
    "###########################################"
   ]
  },
  {
   "cell_type": "code",
   "execution_count": 10,
   "metadata": {},
   "outputs": [],
   "source": [
    "# INITIALISING AN INSTANCE OF A CNN CLASS #\n",
    "cnn = tf.keras.models.Sequential()"
   ]
  },
  {
   "cell_type": "code",
   "execution_count": 11,
   "metadata": {},
   "outputs": [],
   "source": [
    "# ADDING 1st CONVOLUTIONAL LAYER #\n",
    "cnn.add(tf.keras.layers.Conv2D(filters=32, kernel_size=3, activation='relu', input_shape=[64,64,3]))"
   ]
  },
  {
   "cell_type": "code",
   "execution_count": 12,
   "metadata": {},
   "outputs": [],
   "source": [
    "# APPLYING POOLING #\n",
    "cnn.add(tf.keras.layers.MaxPool2D(pool_size=2, strides=2))"
   ]
  },
  {
   "cell_type": "code",
   "execution_count": 13,
   "metadata": {},
   "outputs": [],
   "source": [
    "# ADDING 2nd CONVOLUTION LAYER\n",
    "cnn.add(tf.keras.layers.Conv2D(filters=32, kernel_size=3, activation='relu'))\n",
    "cnn.add(tf.keras.layers.MaxPool2D(pool_size=2, strides=2))"
   ]
  },
  {
   "cell_type": "code",
   "execution_count": 14,
   "metadata": {},
   "outputs": [],
   "source": [
    "# FLATTENING - MAKES 1 DIMENSIONAL VECTOR TO FEED AS INPUTS TO ANN #\n",
    "cnn.add(tf.keras.layers.Flatten())"
   ]
  },
  {
   "cell_type": "code",
   "execution_count": 15,
   "metadata": {},
   "outputs": [],
   "source": [
    "##############################################################\n",
    "######### MAKING A FULLY CONNECTED NN NOW ###################\n",
    "############################################################"
   ]
  },
  {
   "cell_type": "code",
   "execution_count": 16,
   "metadata": {},
   "outputs": [],
   "source": [
    "# ADDING 1st LAYER ANN #\n",
    "cnn.add(tf.keras.layers.Dense(units=128, activation='relu'))\n",
    "# ADDING OUTPUT LAYER #\n",
    "cnn.add(tf.keras.layers.Dense(units=1, activation='sigmoid'))"
   ]
  },
  {
   "cell_type": "code",
   "execution_count": 17,
   "metadata": {},
   "outputs": [],
   "source": [
    "# COMPILING ANN\n",
    "# adam uses stochastic gradient descent\n",
    "cnn.compile(optimizer='adam', loss='binary_crossentropy', metrics=['accuracy'])"
   ]
  },
  {
   "cell_type": "code",
   "execution_count": 18,
   "metadata": {},
   "outputs": [],
   "source": [
    "###################################################################################################################\n",
    "#################### TRAINING THE CNN ON THE TRAINING SET AND EVALUATING ON THE TEST SET #########################\n",
    "#################################################################################################################"
   ]
  },
  {
   "cell_type": "code",
   "execution_count": 19,
   "metadata": {},
   "outputs": [
    {
     "name": "stdout",
     "output_type": "stream",
     "text": [
      "Epoch 1/25\n",
      "250/250 [==============================] - 64s 258ms/step - loss: 0.6516 - accuracy: 0.6029 - val_loss: 0.6233 - val_accuracy: 0.6700\n",
      "Epoch 2/25\n",
      "250/250 [==============================] - 96s 384ms/step - loss: 0.5834 - accuracy: 0.6921 - val_loss: 0.5331 - val_accuracy: 0.7340\n",
      "Epoch 3/25\n",
      "250/250 [==============================] - 94s 374ms/step - loss: 0.5473 - accuracy: 0.7172 - val_loss: 0.5569 - val_accuracy: 0.7090\n",
      "Epoch 4/25\n",
      "250/250 [==============================] - 74s 294ms/step - loss: 0.5161 - accuracy: 0.7460 - val_loss: 0.4931 - val_accuracy: 0.7675\n",
      "Epoch 5/25\n",
      "250/250 [==============================] - 87s 348ms/step - loss: 0.5039 - accuracy: 0.7549 - val_loss: 0.5027 - val_accuracy: 0.7550\n",
      "Epoch 6/25\n",
      "250/250 [==============================] - 77s 306ms/step - loss: 0.4798 - accuracy: 0.7664 - val_loss: 0.4875 - val_accuracy: 0.7690\n",
      "Epoch 7/25\n",
      "250/250 [==============================] - 77s 310ms/step - loss: 0.4595 - accuracy: 0.7816 - val_loss: 0.4819 - val_accuracy: 0.7690\n",
      "Epoch 8/25\n",
      "250/250 [==============================] - 72s 287ms/step - loss: 0.4531 - accuracy: 0.7855 - val_loss: 0.5091 - val_accuracy: 0.7565\n",
      "Epoch 9/25\n",
      "250/250 [==============================] - 71s 286ms/step - loss: 0.4322 - accuracy: 0.7995 - val_loss: 0.4710 - val_accuracy: 0.7775\n",
      "Epoch 10/25\n",
      "250/250 [==============================] - 69s 275ms/step - loss: 0.4230 - accuracy: 0.8043 - val_loss: 0.4799 - val_accuracy: 0.7735\n",
      "Epoch 11/25\n",
      "250/250 [==============================] - 72s 287ms/step - loss: 0.4095 - accuracy: 0.8121 - val_loss: 0.4630 - val_accuracy: 0.7895\n",
      "Epoch 12/25\n",
      "250/250 [==============================] - 78s 312ms/step - loss: 0.3989 - accuracy: 0.8151 - val_loss: 0.4511 - val_accuracy: 0.7890\n",
      "Epoch 13/25\n",
      "250/250 [==============================] - 87s 350ms/step - loss: 0.3823 - accuracy: 0.8278 - val_loss: 0.4646 - val_accuracy: 0.8000\n",
      "Epoch 14/25\n",
      "250/250 [==============================] - 120s 482ms/step - loss: 0.3712 - accuracy: 0.8354 - val_loss: 0.4966 - val_accuracy: 0.7790\n",
      "Epoch 15/25\n",
      "250/250 [==============================] - 96s 385ms/step - loss: 0.3564 - accuracy: 0.8459 - val_loss: 0.4542 - val_accuracy: 0.8035\n",
      "Epoch 16/25\n",
      "250/250 [==============================] - 77s 306ms/step - loss: 0.3489 - accuracy: 0.8469 - val_loss: 0.4637 - val_accuracy: 0.7945\n",
      "Epoch 17/25\n",
      "250/250 [==============================] - 61s 245ms/step - loss: 0.3237 - accuracy: 0.8571 - val_loss: 0.5677 - val_accuracy: 0.7510\n",
      "Epoch 18/25\n",
      "250/250 [==============================] - 62s 250ms/step - loss: 0.3072 - accuracy: 0.8658 - val_loss: 0.4512 - val_accuracy: 0.8110\n",
      "Epoch 19/25\n",
      "250/250 [==============================] - 62s 248ms/step - loss: 0.3014 - accuracy: 0.8650 - val_loss: 0.4734 - val_accuracy: 0.8005\n",
      "Epoch 20/25\n",
      "250/250 [==============================] - 61s 244ms/step - loss: 0.2830 - accuracy: 0.8814 - val_loss: 0.5603 - val_accuracy: 0.7665\n",
      "Epoch 21/25\n",
      "250/250 [==============================] - 62s 247ms/step - loss: 0.2817 - accuracy: 0.8821 - val_loss: 0.5362 - val_accuracy: 0.7850\n",
      "Epoch 22/25\n",
      "250/250 [==============================] - 61s 243ms/step - loss: 0.2635 - accuracy: 0.8899 - val_loss: 0.5511 - val_accuracy: 0.7880\n",
      "Epoch 23/25\n",
      "250/250 [==============================] - 62s 249ms/step - loss: 0.2506 - accuracy: 0.8934 - val_loss: 0.5219 - val_accuracy: 0.7965\n",
      "Epoch 24/25\n",
      "250/250 [==============================] - 61s 246ms/step - loss: 0.2245 - accuracy: 0.9056 - val_loss: 0.5746 - val_accuracy: 0.7875\n",
      "Epoch 25/25\n",
      "250/250 [==============================] - 61s 246ms/step - loss: 0.2184 - accuracy: 0.9147 - val_loss: 0.5438 - val_accuracy: 0.8000\n"
     ]
    },
    {
     "data": {
      "text/plain": [
       "<tensorflow.python.keras.callbacks.History at 0x7ffc2da7d0d0>"
      ]
     },
     "execution_count": 19,
     "metadata": {},
     "output_type": "execute_result"
    }
   ],
   "source": [
    "cnn.fit(x=training_set, validation_data=test_set, epochs=25)"
   ]
  },
  {
   "cell_type": "code",
   "execution_count": 20,
   "metadata": {},
   "outputs": [],
   "source": [
    "# 1 prediction\n",
    "test_img1 = tf.keras.preprocessing.image.load_img(\"/Users/ahsan/Dropbox/My Mac (Alnoors-MBP-2.hub)/Documents/github/Deep_Learning/data/dataset/single_prediction/cat_or_dog_1.jpg\", target_size=(64,64))\n",
    "test_img2 = tf.keras.preprocessing.image.load_img(\"/Users/ahsan/Dropbox/My Mac (Alnoors-MBP-2.hub)/Documents/github/Deep_Learning/data/dataset/single_prediction/cat_or_dog_2.jpg\", target_size=(64,64))"
   ]
  },
  {
   "cell_type": "code",
   "execution_count": 22,
   "metadata": {},
   "outputs": [],
   "source": [
    "# Converting image to 2D array as expected by predict method\n",
    "test_img1 = tf.keras.preprocessing.image.img_to_array(test_img1)\n",
    "test_img1 = np.expand_dims(test_img1, axis=0)\n",
    "test_img2 = tf.keras.preprocessing.image.img_to_array(test_img2)\n",
    "test_img2 = np.expand_dims(test_img2, axis=0)"
   ]
  },
  {
   "cell_type": "code",
   "execution_count": 23,
   "metadata": {},
   "outputs": [],
   "source": [
    "result1 = cnn.predict(test_img1)\n",
    "result2 = cnn.predict(test_img2)"
   ]
  },
  {
   "cell_type": "code",
   "execution_count": 81,
   "metadata": {},
   "outputs": [
    {
     "data": {
      "text/plain": [
       "{'cats': 0, 'dogs': 1}"
      ]
     },
     "execution_count": 81,
     "metadata": {},
     "output_type": "execute_result"
    }
   ],
   "source": [
    "training_set.class_indices"
   ]
  },
  {
   "cell_type": "code",
   "execution_count": 28,
   "metadata": {},
   "outputs": [
    {
     "data": {
      "text/plain": [
       "1.0"
      ]
     },
     "execution_count": 28,
     "metadata": {},
     "output_type": "execute_result"
    }
   ],
   "source": [
    "result1[0][0]"
   ]
  },
  {
   "cell_type": "code",
   "execution_count": 29,
   "metadata": {},
   "outputs": [],
   "source": [
    "#####################################################\n",
    "######## TRAINING AND VALIDATING ON TEST ###########\n",
    "###################################################"
   ]
  },
  {
   "cell_type": "code",
   "execution_count": null,
   "metadata": {},
   "outputs": [],
   "source": []
  }
 ],
 "metadata": {
  "kernelspec": {
   "display_name": "Python 3",
   "language": "python",
   "name": "python3"
  },
  "language_info": {
   "codemirror_mode": {
    "name": "ipython",
    "version": 3
   },
   "file_extension": ".py",
   "mimetype": "text/x-python",
   "name": "python",
   "nbconvert_exporter": "python",
   "pygments_lexer": "ipython3",
   "version": "3.8.3"
  }
 },
 "nbformat": 4,
 "nbformat_minor": 4
}
