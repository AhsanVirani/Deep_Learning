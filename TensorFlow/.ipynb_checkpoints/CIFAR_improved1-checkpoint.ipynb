{
 "cells": [
  {
   "cell_type": "code",
   "execution_count": 1,
   "metadata": {},
   "outputs": [],
   "source": [
    "import tensorflow as tf\n",
    "from tensorflow.keras import datasets, layers, models, optimizers"
   ]
  },
  {
   "cell_type": "code",
   "execution_count": 26,
   "metadata": {},
   "outputs": [],
   "source": [
    "# CIFAR_10 is a set of 60K images 32*32 pixels on 3 channels\n",
    "IMG_CHANNELS = 3\n",
    "IMG_ROWS = 32\n",
    "IMG_COLS = 32"
   ]
  },
  {
   "cell_type": "code",
   "execution_count": 27,
   "metadata": {},
   "outputs": [],
   "source": [
    "# Constant\n",
    "BATCH_SIZE = 128\n",
    "EPOCHS = 20\n",
    "CLASSES = 10\n",
    "VERBOSE = 1\n",
    "VALIDATION_SPLIT = 0.2\n",
    "OPTIM = optimizers.RMSprop()"
   ]
  },
  {
   "cell_type": "code",
   "execution_count": 28,
   "metadata": {},
   "outputs": [],
   "source": [
    "(X_train, y_train), (X_test, y_test) = datasets.cifar10.load_data()"
   ]
  },
  {
   "cell_type": "code",
   "execution_count": 29,
   "metadata": {},
   "outputs": [],
   "source": [
    "# Reshape\n",
    "X_train = X_train.reshape((50000, IMG_ROWS, IMG_COLS, IMG_CHANNELS))\n",
    "X_test = X_test.reshape((10000, IMG_ROWS, IMG_COLS, IMG_CHANNELS))"
   ]
  },
  {
   "cell_type": "code",
   "execution_count": 30,
   "metadata": {},
   "outputs": [],
   "source": [
    "# Normalise\n",
    "X_train, X_test = X_train/255.0, X_test/255.0"
   ]
  },
  {
   "cell_type": "code",
   "execution_count": 31,
   "metadata": {},
   "outputs": [],
   "source": [
    "# Casting\n",
    "X_train, X_test = X_train.astype('float32'), X_test.astype('float32')"
   ]
  },
  {
   "cell_type": "code",
   "execution_count": 32,
   "metadata": {},
   "outputs": [],
   "source": [
    "# Convert class vectors to binary class matrices\n",
    "y_train, y_test = tf.keras.utils.to_categorical(y_train, CLASSES), tf.keras.utils.to_categorical(y_test, CLASSES)"
   ]
  },
  {
   "cell_type": "code",
   "execution_count": 33,
   "metadata": {},
   "outputs": [],
   "source": [
    "# define CNN model \n",
    "def build_model(input_shape, classes):\n",
    "    model = models.Sequential()\n",
    "    model.add(layers.Convolution2D(32, (3, 3), activation='relu', input_shape=input_shape))\n",
    "    model.add(layers.MaxPooling2D(pool_size=(2,2)))\n",
    "    model.add(layers.Dropout(0.25))\n",
    "    \n",
    "    # flatten output to feed into Dense layer\n",
    "    model.add(layers.Flatten())\n",
    "    model.add(layers.Dense(512, activation='relu'))\n",
    "    model.add(layers.Dropout(0.5))\n",
    "    \n",
    "    # Final output layer to predict the class\n",
    "    model.add(layers.Dense(CLASSES, activation='softmax'))\n",
    "    \n",
    "    return model"
   ]
  },
  {
   "cell_type": "code",
   "execution_count": 34,
   "metadata": {},
   "outputs": [],
   "source": [
    "callbacks = [\n",
    "    tf.keras.callbacks.TensorBoard(log_dir='./logs')\n",
    "]"
   ]
  },
  {
   "cell_type": "code",
   "execution_count": 35,
   "metadata": {},
   "outputs": [],
   "source": [
    "# Train\n",
    "model = build_model((IMG_ROWS,IMG_COLS,3), CLASSES)\n",
    "model.compile(loss='categorical_crossentropy', optimizer=OPTIM, metrics=['accuracy'])"
   ]
  },
  {
   "cell_type": "code",
   "execution_count": 37,
   "metadata": {},
   "outputs": [
    {
     "name": "stdout",
     "output_type": "stream",
     "text": [
      "Epoch 1/20\n",
      "313/313 [==============================] - 57s 183ms/step - loss: 1.4392 - accuracy: 0.4904 - val_loss: 1.3557 - val_accuracy: 0.5338\n",
      "Epoch 2/20\n",
      "313/313 [==============================] - 54s 173ms/step - loss: 1.2968 - accuracy: 0.5443 - val_loss: 1.4102 - val_accuracy: 0.4997\n",
      "Epoch 3/20\n",
      "313/313 [==============================] - 54s 171ms/step - loss: 1.1993 - accuracy: 0.5770 - val_loss: 1.1733 - val_accuracy: 0.5932\n",
      "Epoch 4/20\n",
      "313/313 [==============================] - 55s 176ms/step - loss: 1.1186 - accuracy: 0.6117 - val_loss: 1.1071 - val_accuracy: 0.6188\n",
      "Epoch 5/20\n",
      "313/313 [==============================] - 62s 198ms/step - loss: 1.0554 - accuracy: 0.6326 - val_loss: 1.0765 - val_accuracy: 0.6334\n",
      "Epoch 6/20\n",
      "313/313 [==============================] - 61s 196ms/step - loss: 1.0021 - accuracy: 0.6506 - val_loss: 1.0993 - val_accuracy: 0.6258\n",
      "Epoch 7/20\n",
      "313/313 [==============================] - 53s 169ms/step - loss: 0.9490 - accuracy: 0.6708 - val_loss: 1.0119 - val_accuracy: 0.6633\n",
      "Epoch 8/20\n",
      "313/313 [==============================] - 61s 195ms/step - loss: 0.9032 - accuracy: 0.6875 - val_loss: 1.0677 - val_accuracy: 0.6463\n",
      "Epoch 9/20\n",
      "313/313 [==============================] - 53s 170ms/step - loss: 0.8555 - accuracy: 0.7046 - val_loss: 1.1426 - val_accuracy: 0.6306\n",
      "Epoch 10/20\n",
      "313/313 [==============================] - 55s 176ms/step - loss: 0.8175 - accuracy: 0.7153 - val_loss: 1.0152 - val_accuracy: 0.6657\n",
      "Epoch 11/20\n",
      "313/313 [==============================] - 55s 175ms/step - loss: 0.7844 - accuracy: 0.7279 - val_loss: 1.0796 - val_accuracy: 0.6536\n",
      "Epoch 12/20\n",
      "313/313 [==============================] - 55s 177ms/step - loss: 0.7535 - accuracy: 0.7376 - val_loss: 1.1362 - val_accuracy: 0.6234\n",
      "Epoch 13/20\n",
      "313/313 [==============================] - 50s 160ms/step - loss: 0.7214 - accuracy: 0.7520 - val_loss: 0.9743 - val_accuracy: 0.6787\n",
      "Epoch 14/20\n",
      "313/313 [==============================] - 53s 169ms/step - loss: 0.6903 - accuracy: 0.7617 - val_loss: 1.0183 - val_accuracy: 0.6727\n",
      "Epoch 15/20\n",
      "313/313 [==============================] - 52s 166ms/step - loss: 0.6686 - accuracy: 0.7702 - val_loss: 1.0422 - val_accuracy: 0.6744\n",
      "Epoch 16/20\n",
      "313/313 [==============================] - 53s 170ms/step - loss: 0.6428 - accuracy: 0.7788 - val_loss: 1.0585 - val_accuracy: 0.6681\n",
      "Epoch 17/20\n",
      "313/313 [==============================] - 59s 187ms/step - loss: 0.6246 - accuracy: 0.7824 - val_loss: 1.1050 - val_accuracy: 0.6527\n",
      "Epoch 18/20\n",
      "313/313 [==============================] - 69s 221ms/step - loss: 0.5993 - accuracy: 0.7963 - val_loss: 1.1200 - val_accuracy: 0.6539\n",
      "Epoch 19/20\n",
      "313/313 [==============================] - 59s 189ms/step - loss: 0.5821 - accuracy: 0.7990 - val_loss: 1.0066 - val_accuracy: 0.6877\n",
      "Epoch 20/20\n",
      "313/313 [==============================] - 58s 185ms/step - loss: 0.5670 - accuracy: 0.8067 - val_loss: 1.0735 - val_accuracy: 0.6750\n"
     ]
    },
    {
     "data": {
      "text/plain": [
       "<tensorflow.python.keras.callbacks.History at 0x7fa7513b39d0>"
      ]
     },
     "execution_count": 37,
     "metadata": {},
     "output_type": "execute_result"
    }
   ],
   "source": [
    "model.fit(X_train, y_train, batch_size=BATCH_SIZE, epochs=EPOCHS, \n",
    "          validation_split=VALIDATION_SPLIT, callbacks=callbacks)"
   ]
  },
  {
   "cell_type": "code",
   "execution_count": 38,
   "metadata": {},
   "outputs": [
    {
     "name": "stdout",
     "output_type": "stream",
     "text": [
      "79/79 [==============================] - 4s 48ms/step - loss: 1.0741 - accuracy: 0.6700\n"
     ]
    }
   ],
   "source": [
    "score = model.evaluate(X_test, y_test, batch_size=BATCH_SIZE, verbose=VERBOSE)"
   ]
  },
  {
   "cell_type": "code",
   "execution_count": null,
   "metadata": {},
   "outputs": [],
   "source": []
  }
 ],
 "metadata": {
  "kernelspec": {
   "display_name": "Python 3",
   "language": "python",
   "name": "python3"
  },
  "language_info": {
   "codemirror_mode": {
    "name": "ipython",
    "version": 3
   },
   "file_extension": ".py",
   "mimetype": "text/x-python",
   "name": "python",
   "nbconvert_exporter": "python",
   "pygments_lexer": "ipython3",
   "version": "3.8.3"
  }
 },
 "nbformat": 4,
 "nbformat_minor": 4
}
