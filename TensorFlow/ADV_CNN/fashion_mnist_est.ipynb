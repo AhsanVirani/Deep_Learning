{
 "cells": [
  {
   "cell_type": "code",
   "execution_count": 1,
   "metadata": {},
   "outputs": [
    {
     "name": "stdout",
     "output_type": "stream",
     "text": [
      "2.3.1\n"
     ]
    }
   ],
   "source": [
    "import os\n",
    "import time\n",
    "import tensorflow as tf\n",
    "import numpy as np\n",
    "\n",
    "print(tf.__version__)"
   ]
  },
  {
   "cell_type": "code",
   "execution_count": 79,
   "metadata": {},
   "outputs": [],
   "source": [
    "# Total categories\n",
    "label_dim = 10"
   ]
  },
  {
   "cell_type": "code",
   "execution_count": 80,
   "metadata": {},
   "outputs": [],
   "source": [
    "(train_images, train_labels), (test_images, test_labels) = tf.keras.datasets.fashion_mnist.load_data()"
   ]
  },
  {
   "cell_type": "code",
   "execution_count": 81,
   "metadata": {},
   "outputs": [],
   "source": [
    "training_size = len(train_images)\n",
    "test_size = len(test_images)"
   ]
  },
  {
   "cell_type": "code",
   "execution_count": 82,
   "metadata": {},
   "outputs": [],
   "source": [
    "# Scaling the train and test images on 0-1 scale\n",
    "train_images = np.array(train_images) / 255\n",
    "test_images = np.array(test_images) / 255"
   ]
  },
  {
   "cell_type": "code",
   "execution_count": 83,
   "metadata": {},
   "outputs": [],
   "source": [
    "# Reshaping to required N * H * W * C \n",
    "train_images = train_images.reshape(training_size, 28, 28, 1)\n",
    "test_images = test_images.reshape(test_size, 28, 28, 1)"
   ]
  },
  {
   "cell_type": "code",
   "execution_count": 84,
   "metadata": {},
   "outputs": [],
   "source": [
    "# Applying one hot encoding to the images\n",
    "train_labels = tf.keras.utils.to_categorical(train_labels, label_dim)\n",
    "test_labels = tf.keras.utils.to_categorical(test_labels, label_dim)"
   ]
  },
  {
   "cell_type": "code",
   "execution_count": 85,
   "metadata": {},
   "outputs": [],
   "source": [
    "# Casting the labels to float -> As they are scaled bet 0-1\n",
    "train_labels = train_labels.astype(np.float32)\n",
    "test_labels = test_labels.astype(np.float32)"
   ]
  },
  {
   "cell_type": "code",
   "execution_count": 86,
   "metadata": {},
   "outputs": [
    {
     "name": "stdout",
     "output_type": "stream",
     "text": [
      "(60000, 10)\n",
      "(10000, 10)\n"
     ]
    }
   ],
   "source": [
    "print(train_labels.shape)\n",
    "print(test_labels.shape)"
   ]
  },
  {
   "cell_type": "code",
   "execution_count": 87,
   "metadata": {},
   "outputs": [
    {
     "name": "stdout",
     "output_type": "stream",
     "text": [
      "Model: \"functional_9\"\n",
      "_________________________________________________________________\n",
      "Layer (type)                 Output Shape              Param #   \n",
      "=================================================================\n",
      "input_7 (InputLayer)         [(None, 28, 28, 1)]       0         \n",
      "_________________________________________________________________\n",
      "conv2d_12 (Conv2D)           (None, 26, 26, 32)        320       \n",
      "_________________________________________________________________\n",
      "max_pooling2d_8 (MaxPooling2 (None, 13, 13, 32)        0         \n",
      "_________________________________________________________________\n",
      "conv2d_13 (Conv2D)           (None, 11, 11, 64)        18496     \n",
      "_________________________________________________________________\n",
      "max_pooling2d_9 (MaxPooling2 (None, 5, 5, 64)          0         \n",
      "_________________________________________________________________\n",
      "conv2d_14 (Conv2D)           (None, 3, 3, 64)          36928     \n",
      "_________________________________________________________________\n",
      "flatten_4 (Flatten)          (None, 576)               0         \n",
      "_________________________________________________________________\n",
      "dense_8 (Dense)              (None, 64)                36928     \n",
      "_________________________________________________________________\n",
      "dense_9 (Dense)              (None, 10)                650       \n",
      "=================================================================\n",
      "Total params: 93,322\n",
      "Trainable params: 93,322\n",
      "Non-trainable params: 0\n",
      "_________________________________________________________________\n"
     ]
    }
   ],
   "source": [
    "# Building a model now\n",
    "inputs = tf.keras.layers.Input(shape=(28, 28, 1))\n",
    "x = tf.keras.layers.Conv2D(filters=32, kernel_size=(3,3), activation='relu')(inputs)\n",
    "x = tf.keras.layers.MaxPool2D(pool_size=(2, 2), strides=2)(x)\n",
    "x = tf.keras.layers.Conv2D(filters=64, kernel_size=(3, 3), activation='relu')(x)\n",
    "x = tf.keras.layers.MaxPool2D(pool_size=(2, 2), strides=2)(x)\n",
    "x = tf.keras.layers.Conv2D(filters=64, kernel_size=(3, 3), activation='relu')(x)\n",
    "x = tf.keras.layers.Flatten()(x)\n",
    "x = tf.keras.layers.Dense(64, activation='relu')(x)\n",
    "pred = tf.keras.layers.Dense(label_dim, activation='softmax')(x)\n",
    "\n",
    "model = tf.keras.Model(inputs=inputs, outputs=pred)\n",
    "model.summary()"
   ]
  },
  {
   "cell_type": "code",
   "execution_count": 88,
   "metadata": {},
   "outputs": [],
   "source": [
    "# compiling the model\n",
    "optimizer = tf.keras.optimizers.SGD()\n",
    "model.compile(loss='categorical_crossentropy',\n",
    "             optimizer=optimizer,\n",
    "             metrics=['accuracy'])"
   ]
  },
  {
   "cell_type": "code",
   "execution_count": 89,
   "metadata": {},
   "outputs": [
    {
     "name": "stdout",
     "output_type": "stream",
     "text": [
      "WARNING:tensorflow:Using temporary folder as model directory: /var/folders/z_/rwjk4yhx7w71xlx5qwtmfdj40000gp/T/tmpipl5sp0n\n",
      "INFO:tensorflow:Using the Keras model provided.\n",
      "INFO:tensorflow:Using config: {'_model_dir': '/var/folders/z_/rwjk4yhx7w71xlx5qwtmfdj40000gp/T/tmpipl5sp0n', '_tf_random_seed': None, '_save_summary_steps': 100, '_save_checkpoints_steps': None, '_save_checkpoints_secs': 600, '_session_config': allow_soft_placement: true\n",
      "graph_options {\n",
      "  rewrite_options {\n",
      "    meta_optimizer_iterations: ONE\n",
      "  }\n",
      "}\n",
      ", '_keep_checkpoint_max': 5, '_keep_checkpoint_every_n_hours': 10000, '_log_step_count_steps': 100, '_train_distribute': None, '_device_fn': None, '_protocol': None, '_eval_distribute': None, '_experimental_distribute': None, '_experimental_max_worker_delay_secs': None, '_session_creation_timeout_secs': 7200, '_service': None, '_cluster_spec': ClusterSpec({}), '_task_type': 'worker', '_task_id': 0, '_global_id_in_cluster': 0, '_master': '', '_evaluation_master': '', '_is_chief': True, '_num_ps_replicas': 0, '_num_worker_replicas': 1}\n"
     ]
    }
   ],
   "source": [
    "# We will run on CPU. Convert model to estimator for easy use\n",
    "strategy = None\n",
    "config = tf.estimator.RunConfig(train_distribute=strategy)\n",
    "estimator = tf.keras.estimator.model_to_estimator(model, config=config)"
   ]
  },
  {
   "cell_type": "code",
   "execution_count": 90,
   "metadata": {},
   "outputs": [],
   "source": [
    "# Define training and testing functions\n",
    "def input_fn(images, labels, epochs, batch_size):\n",
    "    # Convert inputs to a Dataset\n",
    "    dataset = tf.data.Dataset.from_tensor_slices((images, labels))\n",
    "    \n",
    "    # Shuffle, repeat, and batch the examples\n",
    "    shuffle_size = 5000\n",
    "    dataset = dataset.shuffle(shuffle_size).repeat(epochs).batch(batch_size)\n",
    "    dataset = dataset.prefetch(None)\n",
    "    \n",
    "    # return dataset\n",
    "    return dataset\n",
    "    \n",
    "    "
   ]
  },
  {
   "cell_type": "code",
   "execution_count": 91,
   "metadata": {},
   "outputs": [
    {
     "name": "stdout",
     "output_type": "stream",
     "text": [
      "INFO:tensorflow:Calling model_fn.\n",
      "INFO:tensorflow:Done calling model_fn.\n",
      "INFO:tensorflow:Warm-starting with WarmStartSettings: WarmStartSettings(ckpt_to_initialize_from='/var/folders/z_/rwjk4yhx7w71xlx5qwtmfdj40000gp/T/tmpipl5sp0n/keras/keras_model.ckpt', vars_to_warm_start='.*', var_name_to_vocab_info={}, var_name_to_prev_var_name={})\n",
      "INFO:tensorflow:Warm-starting from: /var/folders/z_/rwjk4yhx7w71xlx5qwtmfdj40000gp/T/tmpipl5sp0n/keras/keras_model.ckpt\n",
      "INFO:tensorflow:Warm-starting variables only in TRAINABLE_VARIABLES.\n",
      "INFO:tensorflow:Warm-started 10 variables.\n",
      "INFO:tensorflow:Create CheckpointSaverHook.\n",
      "INFO:tensorflow:Graph was finalized.\n",
      "INFO:tensorflow:Running local_init_op.\n",
      "INFO:tensorflow:Done running local_init_op.\n",
      "INFO:tensorflow:Calling checkpoint listeners before saving checkpoint 0...\n",
      "INFO:tensorflow:Saving checkpoints for 0 into /var/folders/z_/rwjk4yhx7w71xlx5qwtmfdj40000gp/T/tmpipl5sp0n/model.ckpt.\n",
      "INFO:tensorflow:Calling checkpoint listeners after saving checkpoint 0...\n",
      "INFO:tensorflow:loss = 2.3070378, step = 0\n",
      "INFO:tensorflow:global_step/sec: 3.01558\n",
      "INFO:tensorflow:loss = 2.230318, step = 100 (33.120 sec)\n",
      "INFO:tensorflow:global_step/sec: 2.97256\n",
      "INFO:tensorflow:loss = 1.98498, step = 200 (33.641 sec)\n",
      "INFO:tensorflow:global_step/sec: 2.84849\n",
      "INFO:tensorflow:loss = 1.0902022, step = 300 (35.114 sec)\n",
      "INFO:tensorflow:global_step/sec: 2.96496\n",
      "INFO:tensorflow:loss = 0.98187417, step = 400 (33.719 sec)\n",
      "INFO:tensorflow:global_step/sec: 2.92979\n",
      "INFO:tensorflow:loss = 0.9364559, step = 500 (34.132 sec)\n",
      "INFO:tensorflow:global_step/sec: 2.76649\n",
      "INFO:tensorflow:loss = 0.8451885, step = 600 (36.147 sec)\n",
      "INFO:tensorflow:global_step/sec: 2.92279\n",
      "INFO:tensorflow:loss = 0.76987183, step = 700 (34.214 sec)\n",
      "INFO:tensorflow:global_step/sec: 2.93135\n",
      "INFO:tensorflow:loss = 0.68625623, step = 800 (34.114 sec)\n",
      "INFO:tensorflow:global_step/sec: 2.94253\n",
      "INFO:tensorflow:loss = 0.8083135, step = 900 (33.984 sec)\n",
      "INFO:tensorflow:global_step/sec: 2.89497\n",
      "INFO:tensorflow:loss = 0.6825141, step = 1000 (34.543 sec)\n",
      "INFO:tensorflow:global_step/sec: 2.90836\n",
      "INFO:tensorflow:loss = 0.62933904, step = 1100 (34.384 sec)\n",
      "INFO:tensorflow:global_step/sec: 2.80632\n",
      "INFO:tensorflow:loss = 0.58421326, step = 1200 (35.633 sec)\n",
      "INFO:tensorflow:global_step/sec: 2.59435\n",
      "INFO:tensorflow:loss = 0.62524784, step = 1300 (38.546 sec)\n",
      "INFO:tensorflow:global_step/sec: 1.54044\n",
      "INFO:tensorflow:loss = 0.60096383, step = 1400 (64.919 sec)\n",
      "INFO:tensorflow:global_step/sec: 1.81183\n",
      "INFO:tensorflow:loss = 0.5632231, step = 1500 (55.190 sec)\n",
      "INFO:tensorflow:Calling checkpoint listeners before saving checkpoint 1532...\n",
      "INFO:tensorflow:Saving checkpoints for 1532 into /var/folders/z_/rwjk4yhx7w71xlx5qwtmfdj40000gp/T/tmpipl5sp0n/model.ckpt.\n",
      "INFO:tensorflow:Calling checkpoint listeners after saving checkpoint 1532...\n",
      "INFO:tensorflow:global_step/sec: 1.43743\n",
      "INFO:tensorflow:loss = 0.62811387, step = 1600 (69.570 sec)\n",
      "INFO:tensorflow:global_step/sec: 2.19927\n",
      "INFO:tensorflow:loss = 0.62965727, step = 1700 (45.468 sec)\n",
      "INFO:tensorflow:global_step/sec: 1.91929\n",
      "INFO:tensorflow:loss = 0.54693526, step = 1800 (52.110 sec)\n",
      "INFO:tensorflow:global_step/sec: 1.61719\n",
      "INFO:tensorflow:loss = 0.5236132, step = 1900 (61.828 sec)\n",
      "INFO:tensorflow:global_step/sec: 2.81529\n",
      "INFO:tensorflow:loss = 0.5450503, step = 2000 (35.520 sec)\n",
      "INFO:tensorflow:global_step/sec: 2.84026\n",
      "INFO:tensorflow:loss = 0.5511161, step = 2100 (35.208 sec)\n",
      "INFO:tensorflow:global_step/sec: 2.92583\n",
      "INFO:tensorflow:loss = 0.534571, step = 2200 (34.179 sec)\n",
      "INFO:tensorflow:global_step/sec: 2.85565\n",
      "INFO:tensorflow:loss = 0.52916443, step = 2300 (35.018 sec)\n",
      "INFO:tensorflow:global_step/sec: 2.93907\n",
      "INFO:tensorflow:loss = 0.45881552, step = 2400 (34.025 sec)\n",
      "INFO:tensorflow:global_step/sec: 2.92597\n",
      "INFO:tensorflow:loss = 0.5348644, step = 2500 (34.177 sec)\n",
      "INFO:tensorflow:global_step/sec: 2.8671\n",
      "INFO:tensorflow:loss = 0.50668514, step = 2600 (34.879 sec)\n",
      "INFO:tensorflow:global_step/sec: 2.90465\n",
      "INFO:tensorflow:loss = 0.50216216, step = 2700 (34.427 sec)\n",
      "INFO:tensorflow:global_step/sec: 2.88235\n",
      "INFO:tensorflow:loss = 0.52882755, step = 2800 (34.694 sec)\n",
      "INFO:tensorflow:global_step/sec: 2.77636\n",
      "INFO:tensorflow:loss = 0.48927456, step = 2900 (36.018 sec)\n",
      "INFO:tensorflow:global_step/sec: 2.71677\n",
      "INFO:tensorflow:loss = 0.46935886, step = 3000 (36.808 sec)\n",
      "INFO:tensorflow:Calling checkpoint listeners before saving checkpoint 3013...\n",
      "INFO:tensorflow:Saving checkpoints for 3013 into /var/folders/z_/rwjk4yhx7w71xlx5qwtmfdj40000gp/T/tmpipl5sp0n/model.ckpt.\n",
      "INFO:tensorflow:Calling checkpoint listeners after saving checkpoint 3013...\n",
      "INFO:tensorflow:global_step/sec: 2.36051\n",
      "INFO:tensorflow:loss = 0.5101994, step = 3100 (42.372 sec)\n",
      "INFO:tensorflow:global_step/sec: 2.90707\n",
      "INFO:tensorflow:loss = 0.48473725, step = 3200 (34.391 sec)\n",
      "INFO:tensorflow:global_step/sec: 1.75341\n",
      "INFO:tensorflow:loss = 0.49304283, step = 3300 (57.031 sec)\n",
      "INFO:tensorflow:global_step/sec: 2.89197\n",
      "INFO:tensorflow:loss = 0.42025447, step = 3400 (34.579 sec)\n",
      "INFO:tensorflow:global_step/sec: 1.92363\n",
      "INFO:tensorflow:loss = 0.49695277, step = 3500 (51.986 sec)\n",
      "INFO:tensorflow:global_step/sec: 2.12894\n",
      "INFO:tensorflow:loss = 0.42609376, step = 3600 (46.971 sec)\n",
      "INFO:tensorflow:global_step/sec: 2.34637\n",
      "INFO:tensorflow:loss = 0.44057664, step = 3700 (42.619 sec)\n",
      "INFO:tensorflow:global_step/sec: 2.89173\n",
      "INFO:tensorflow:loss = 0.4252386, step = 3800 (34.581 sec)\n",
      "INFO:tensorflow:global_step/sec: 2.9751\n",
      "INFO:tensorflow:loss = 0.36977857, step = 3900 (33.613 sec)\n",
      "INFO:tensorflow:global_step/sec: 2.71156\n",
      "INFO:tensorflow:loss = 0.49776345, step = 4000 (36.879 sec)\n",
      "INFO:tensorflow:global_step/sec: 2.09768\n",
      "INFO:tensorflow:loss = 0.4452533, step = 4100 (47.671 sec)\n",
      "INFO:tensorflow:global_step/sec: 2.56145\n",
      "INFO:tensorflow:loss = 0.48042187, step = 4200 (39.041 sec)\n",
      "INFO:tensorflow:global_step/sec: 2.69073\n",
      "INFO:tensorflow:loss = 0.44669086, step = 4300 (37.165 sec)\n",
      "INFO:tensorflow:global_step/sec: 2.69793\n",
      "INFO:tensorflow:loss = 0.48373836, step = 4400 (37.065 sec)\n",
      "INFO:tensorflow:Calling checkpoint listeners before saving checkpoint 4459...\n",
      "INFO:tensorflow:Saving checkpoints for 4459 into /var/folders/z_/rwjk4yhx7w71xlx5qwtmfdj40000gp/T/tmpipl5sp0n/model.ckpt.\n",
      "INFO:tensorflow:Calling checkpoint listeners after saving checkpoint 4459...\n",
      "INFO:tensorflow:global_step/sec: 1.8206\n",
      "INFO:tensorflow:loss = 0.4750417, step = 4500 (54.927 sec)\n",
      "INFO:tensorflow:global_step/sec: 2.97404\n",
      "INFO:tensorflow:loss = 0.4554034, step = 4600 (33.624 sec)\n",
      "INFO:tensorflow:global_step/sec: 2.99852\n",
      "INFO:tensorflow:loss = 0.41272122, step = 4700 (33.350 sec)\n",
      "INFO:tensorflow:global_step/sec: 2.94913\n",
      "INFO:tensorflow:loss = 0.40552056, step = 4800 (33.908 sec)\n",
      "INFO:tensorflow:global_step/sec: 3.00213\n",
      "INFO:tensorflow:loss = 0.49706894, step = 4900 (33.310 sec)\n",
      "INFO:tensorflow:global_step/sec: 2.96665\n",
      "INFO:tensorflow:loss = 0.39605373, step = 5000 (33.708 sec)\n",
      "INFO:tensorflow:global_step/sec: 2.85625\n",
      "INFO:tensorflow:loss = 0.39785805, step = 5100 (35.011 sec)\n",
      "INFO:tensorflow:global_step/sec: 2.95624\n",
      "INFO:tensorflow:loss = 0.46396628, step = 5200 (33.827 sec)\n",
      "INFO:tensorflow:global_step/sec: 3.00007\n",
      "INFO:tensorflow:loss = 0.43646815, step = 5300 (33.332 sec)\n",
      "INFO:tensorflow:global_step/sec: 3.03114\n",
      "INFO:tensorflow:loss = 0.41330805, step = 5400 (32.991 sec)\n",
      "INFO:tensorflow:global_step/sec: 2.95352\n",
      "INFO:tensorflow:loss = 0.40671498, step = 5500 (33.858 sec)\n",
      "INFO:tensorflow:global_step/sec: 3.03474\n",
      "INFO:tensorflow:loss = 0.44319978, step = 5600 (32.952 sec)\n",
      "INFO:tensorflow:global_step/sec: 3.06224\n",
      "INFO:tensorflow:loss = 0.39886025, step = 5700 (32.656 sec)\n",
      "INFO:tensorflow:global_step/sec: 2.31457\n",
      "INFO:tensorflow:loss = 0.42955244, step = 5800 (43.205 sec)\n",
      "INFO:tensorflow:Calling checkpoint listeners before saving checkpoint 5860...\n",
      "INFO:tensorflow:Saving checkpoints for 5860 into /var/folders/z_/rwjk4yhx7w71xlx5qwtmfdj40000gp/T/tmpipl5sp0n/model.ckpt.\n",
      "INFO:tensorflow:Calling checkpoint listeners after saving checkpoint 5860...\n",
      "INFO:tensorflow:Loss for final step: 0.43504882.\n"
     ]
    }
   ],
   "source": [
    "# Training\n",
    "batch_size = 512\n",
    "epochs = 50\n",
    "estimator_train_result = estimator.train(input_fn=lambda:input_fn(train_images, train_labels,\n",
    "                                                          epochs=epochs, batch_size=batch_size))"
   ]
  },
  {
   "cell_type": "code",
   "execution_count": 92,
   "metadata": {},
   "outputs": [
    {
     "name": "stdout",
     "output_type": "stream",
     "text": [
      "<tensorflow_estimator.python.estimator.estimator.EstimatorV2 object at 0x7f95f8fa0ac0>\n"
     ]
    }
   ],
   "source": [
    "print(estimator_train_result)"
   ]
  },
  {
   "cell_type": "code",
   "execution_count": 93,
   "metadata": {},
   "outputs": [
    {
     "name": "stdout",
     "output_type": "stream",
     "text": [
      "INFO:tensorflow:Calling model_fn.\n",
      "WARNING:tensorflow:From /Users/ahsan/opt/anaconda3/lib/python3.8/site-packages/tensorflow/python/keras/engine/training_v1.py:2048: Model.state_updates (from tensorflow.python.keras.engine.training) is deprecated and will be removed in a future version.\n",
      "Instructions for updating:\n",
      "This property should not be used in TensorFlow 2.0, as updates are applied automatically.\n",
      "INFO:tensorflow:Done calling model_fn.\n",
      "INFO:tensorflow:Starting evaluation at 2020-12-29T19:28:16Z\n",
      "INFO:tensorflow:Graph was finalized.\n",
      "INFO:tensorflow:Restoring parameters from /var/folders/z_/rwjk4yhx7w71xlx5qwtmfdj40000gp/T/tmpipl5sp0n/model.ckpt-5860\n",
      "INFO:tensorflow:Running local_init_op.\n",
      "INFO:tensorflow:Done running local_init_op.\n",
      "INFO:tensorflow:Inference Time : 3.08386s\n",
      "INFO:tensorflow:Finished evaluation at 2020-12-29-19:28:19\n",
      "INFO:tensorflow:Saving dict for global step 5860: accuracy = 0.8202, global_step = 5860, loss = 0.48910326\n",
      "INFO:tensorflow:Saving 'checkpoint_path' summary for global step 5860: /var/folders/z_/rwjk4yhx7w71xlx5qwtmfdj40000gp/T/tmpipl5sp0n/model.ckpt-5860\n"
     ]
    },
    {
     "data": {
      "text/plain": [
       "{'accuracy': 0.8202, 'loss': 0.48910326, 'global_step': 5860}"
      ]
     },
     "execution_count": 93,
     "metadata": {},
     "output_type": "execute_result"
    }
   ],
   "source": [
    "estimator.evaluate(lambda:input_fn(test_images, test_labels, epochs=1, batch_size=batch_size))"
   ]
  },
  {
   "cell_type": "code",
   "execution_count": null,
   "metadata": {},
   "outputs": [],
   "source": []
  }
 ],
 "metadata": {
  "kernelspec": {
   "display_name": "Python 3",
   "language": "python",
   "name": "python3"
  },
  "language_info": {
   "codemirror_mode": {
    "name": "ipython",
    "version": 3
   },
   "file_extension": ".py",
   "mimetype": "text/x-python",
   "name": "python",
   "nbconvert_exporter": "python",
   "pygments_lexer": "ipython3",
   "version": "3.8.3"
  }
 },
 "nbformat": 4,
 "nbformat_minor": 4
}
